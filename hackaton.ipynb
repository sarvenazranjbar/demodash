{
 "cells": [
  {
   "cell_type": "code",
   "execution_count": 53,
   "id": "fb958377",
   "metadata": {},
   "outputs": [
    {
     "name": "stdout",
     "output_type": "stream",
     "text": [
      "NOTE: By clicking this button a random data will be set to api to demonstrate a refreshed data in the subjects\n"
     ]
    },
    {
     "data": {
      "application/vnd.jupyter.widget-view+json": {
       "model_id": "21cc5d6fb6d94743a992e699aed17eda",
       "version_major": 2,
       "version_minor": 0
      },
      "text/plain": [
       "Button(button_style='success', description='Refresh data', icon='folder', style=ButtonStyle(), tooltip='Click …"
      ]
     },
     "metadata": {},
     "output_type": "display_data"
    },
    {
     "name": "stdout",
     "output_type": "stream",
     "text": [
      "NOTE: this graph is single tasking meaning it can show one subject at the time if refresh button clicked refreshes automatically\n"
     ]
    },
    {
     "data": {
      "application/vnd.jupyter.widget-view+json": {
       "model_id": "bda6ec95fdf040838ea766dbf48ecfb8",
       "version_major": 2,
       "version_minor": 0
      },
      "text/plain": [
       "Dropdown(description='subject: ', options=('cases', 'hospital', 'deaths'), value='cases')"
      ]
     },
     "metadata": {},
     "output_type": "display_data"
    },
    {
     "data": {
      "application/vnd.jupyter.widget-view+json": {
       "model_id": "f0db03a05fad41a1b4483b722087c7da",
       "version_major": 2,
       "version_minor": 0
      },
      "text/plain": [
       "Output()"
      ]
     },
     "metadata": {},
     "output_type": "display_data"
    },
    {
     "name": "stdout",
     "output_type": "stream",
     "text": [
      "NOTE: this graph is multiple tasking which can show multiple subjects at the same time with selectable modes\n"
     ]
    },
    {
     "data": {
      "application/vnd.jupyter.widget-view+json": {
       "model_id": "99a3911eaa4f4bb7ad2c432e59f9e161",
       "version_major": 2,
       "version_minor": 0
      },
      "text/plain": [
       "HBox(children=(Output(), VBox(children=(SelectMultiple(description='Stats:', index=(0, 1, 2), options=('cases'…"
      ]
     },
     "metadata": {},
     "output_type": "display_data"
    }
   ],
   "source": [
    "from IPython.display import clear_output\n",
    "import ipywidgets as wdg\n",
    "import pandas as pd\n",
    "import numpy as np\n",
    "import matplotlib.pyplot as plt\n",
    "import json\n",
    "from uk_covid19 import Cov19API\n",
    "\n",
    "\n",
    "filters = [\n",
    "    'areaType=nation',\n",
    "    'areaName=England'\n",
    "    ]\n",
    "\n",
    "structure = {\n",
    "    \"date\": \"date\",\n",
    "    \"cases\": \"newCasesByPublishDate\",\n",
    "    \"hospital\": \"newAdmissions\",\n",
    "    \"deaths\": \"cumDeaths28DaysByDeathDateRate\"  \n",
    "    }\n",
    "\n",
    "api = Cov19API(filters=filters, structure=structure)\n",
    "timeseries=api.get_json()\n",
    "\n",
    "with open(\"timeseries.json\", \"wt\") as OUTF:\n",
    "    json.dump(timeseries, OUTF)\n",
    "    \n",
    "with open(\"timeseries.json\", \"rt\") as INFILE:\n",
    "    data=json.load(INFILE)\n",
    "    \n",
    "def parse_date(datestring):\n",
    "    return pd.to_datetime(datestring, format=\"%Y-%m-%d\")\n",
    "\n",
    "\n",
    "datalist = data['data']\n",
    "dates=[dictionary['date'] for dictionary in datalist ]\n",
    "dates.sort()\n",
    "startdate = parse_date(dates[0])\n",
    "enddate = parse_date(dates[-1])\n",
    "index=pd.date_range(startdate, enddate, freq='D')\n",
    "timeseriesdf=pd.DataFrame(index=index, columns=['cases', 'hospital', 'deaths'])\n",
    "\n",
    "\n",
    "for entry in datalist:\n",
    "    date=parse_date(entry['date'])\n",
    "    for column in ['cases', 'hospital', 'deaths']:\n",
    "        if pd.isna(timeseriesdf.loc[date, column]): \n",
    "            value= float(entry[column]) if entry[column]!=None else 0.0\n",
    "            timeseriesdf.loc[date, column]=value\n",
    "            \n",
    "timeseriesdf.fillna(0.0, inplace=True)\n",
    "\n",
    "\n",
    "\n",
    "def wrangle_data(rawdata):\n",
    "    datalist = rawdata['data']\n",
    "    dates=[dictionary['date'] for dictionary in datalist]\n",
    "    dates.sort()\n",
    "    starting = parse_date(dates[0])\n",
    "    ending = parse_date(dates[-1])\n",
    "    index=pd.date_range(starting, ending, freq='D')\n",
    "    timeseriesdf=pd.DataFrame(index=index, columns=['cases', 'hospital', 'deaths'])\n",
    "    cases=hospital=deaths=0.0\n",
    "    for i in range(0,100):\n",
    "        timeseriesdf.loc[i,'cases']=cases\n",
    "        timeseriesdf.loc[i,'hospital']=hospital\n",
    "        timeseriesdf.loc[i, 'deaths'] = deaths\n",
    "        cases+=np.random.randn()\n",
    "        hospital+=2*np.random.randn()\n",
    "        deaths+=3*np.random.randn()\n",
    "    return timeseriesdf\n",
    "\n",
    "\n",
    "def access_api():\n",
    "    filters = [\n",
    "    'areaType=nation',\n",
    "    'areaName=England'\n",
    "    ]\n",
    "\n",
    "    structure = {\n",
    "    \"date\": \"date\",\n",
    "    \"cases\": \"newCasesByPublishDate\",\n",
    "    \"hospital\": \"newAdmissions\",\n",
    "    \"deaths\": \"cumDeaths28DaysByDeathDateRate\"  \n",
    "    }\n",
    "\n",
    "    api = Cov19API(filters = filters, structure = structure)\n",
    "    timeseriesOnRefresh = api.get_json()\n",
    "    apibutton.icon = \"check\"\n",
    "    apibutton.disabled = True\n",
    "    return timeseriesOnRefresh\n",
    "\n",
    "def api_button_callback(button):\n",
    "    apidata=access_api()\n",
    "    global timeseriesdf\n",
    "    timeseriesdf=wrangle_data(apidata)\n",
    "    refresh_graph()\n",
    "    apibutton.icon = \"check\"\n",
    "    apibutton.disabled = True\n",
    "    \n",
    "apibutton=wdg.Button(\n",
    "    description='Refresh data',\n",
    "    disabled=False,\n",
    "    button_style='success', \n",
    "    tooltip='Click to download current Public Health England data',\n",
    "    icon='folder'\n",
    "    )\n",
    "\n",
    "apibutton.on_click(api_button_callback)\n",
    "print('NOTE: By clicking this button a random data will be set to api to demonstrate a refreshed data in the subjects')\n",
    "display(apibutton)\n",
    "\n",
    "def plot_random_walk(walk):\n",
    "    timeseriesdf[walk].plot()\n",
    "    plt.show()\n",
    "    \n",
    "whichwalk=wdg.Dropdown(\n",
    "    options=['cases', 'hospital', 'deaths'],\n",
    "    value='cases',\n",
    "    description='subject: ',\n",
    "    disabled=False,\n",
    "    )\n",
    "\n",
    "def refresh_graph():\n",
    "    current=whichwalk.value\n",
    "    if current==whichwalk.options[0]:\n",
    "        other=whichwalk.options[1]\n",
    "    else:\n",
    "        other=whichwalk.options[0]\n",
    "    whichwalk.value=other\n",
    "    whichwalk.value=current\n",
    "    \n",
    "    \n",
    "graph=wdg.interactive_output(plot_random_walk, {'walk': whichwalk})\n",
    "print('NOTE: this graph is single tasking meaning it can show one subject at the time if refresh button clicked refreshes automatically')\n",
    "display(whichwalk, graph)\n",
    "\n",
    "series=wdg.SelectMultiple(\n",
    "    options=['cases', 'hospital', 'deaths'],\n",
    "    value=['cases', 'hospital', 'deaths'],\n",
    "    rows=3,\n",
    "    description='Stats:',\n",
    "    disabled=False\n",
    "    )\n",
    "\n",
    "scale=wdg.RadioButtons(\n",
    "    options=['linear', 'log'],\n",
    "    description='Scale:',\n",
    "    disabled=False\n",
    "    )\n",
    "\n",
    "def timeseries_graph(gcols, gscale):\n",
    "    if gscale=='linear':\n",
    "        logscale=False\n",
    "    else:\n",
    "        logscale=True\n",
    "    ncols=len(gcols)\n",
    "    if ncols>0:\n",
    "        timeseriesdf[list(gcols)].plot(logy=logscale)\n",
    "        plt.show()\n",
    "    else:\n",
    "        print(\"Click to select data for graph\")\n",
    "        print(\"(CTRL-Click to select more than one category)\")\n",
    "\n",
    "\n",
    "graph=wdg.interactive_output(timeseries_graph, {'gcols': series, 'gscale': scale})\n",
    "\n",
    "ctrls=wdg.VBox([series, scale])\n",
    "\n",
    "form=wdg.HBox([graph, ctrls])\n",
    "print('NOTE: this graph is multiple tasking which can show multiple subjects at the same time with selectable modes')\n",
    "display(form)"
   ]
  },
  {
   "cell_type": "code",
   "execution_count": null,
   "id": "7c863a05",
   "metadata": {},
   "outputs": [],
   "source": []
  }
 ],
 "metadata": {
  "kernelspec": {
   "display_name": "Python 3 (ipykernel)",
   "language": "python",
   "name": "python3"
  },
  "language_info": {
   "codemirror_mode": {
    "name": "ipython",
    "version": 3
   },
   "file_extension": ".py",
   "mimetype": "text/x-python",
   "name": "python",
   "nbconvert_exporter": "python",
   "pygments_lexer": "ipython3",
   "version": "3.9.13"
  }
 },
 "nbformat": 4,
 "nbformat_minor": 5
}
